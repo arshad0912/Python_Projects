{
  "cells": [
    {
      "cell_type": "markdown",
      "metadata": {
        "id": "view-in-github",
        "colab_type": "text"
      },
      "source": [
        "<a href=\"https://colab.research.google.com/github/arshad0912/Python_Projects/blob/main/overlay_and_label.ipynb\" target=\"_parent\"><img src=\"https://colab.research.google.com/assets/colab-badge.svg\" alt=\"Open In Colab\"/></a>"
      ]
    },
    {
      "cell_type": "code",
      "execution_count": 14,
      "id": "aad14aa2-5716-4987-81ef-e99fb6ed65ca",
      "metadata": {
        "id": "aad14aa2-5716-4987-81ef-e99fb6ed65ca"
      },
      "outputs": [],
      "source": [
        "\n",
        "\n",
        "import rasterio\n",
        "import numpy as np\n",
        "import pandas as pd\n",
        "from rasterio.windows import Window\n",
        "import matplotlib.pyplot as plt\n"
      ]
    },
    {
      "cell_type": "code",
      "source": [
        "pip install rasterio\n"
      ],
      "metadata": {
        "colab": {
          "base_uri": "https://localhost:8080/"
        },
        "id": "386EajBs5qjG",
        "outputId": "4b66aaeb-81cd-4e7b-b98d-ada340c04dbc"
      },
      "id": "386EajBs5qjG",
      "execution_count": 13,
      "outputs": [
        {
          "output_type": "stream",
          "name": "stdout",
          "text": [
            "Requirement already satisfied: rasterio in /usr/local/lib/python3.11/dist-packages (1.4.3)\n",
            "Requirement already satisfied: affine in /usr/local/lib/python3.11/dist-packages (from rasterio) (2.4.0)\n",
            "Requirement already satisfied: attrs in /usr/local/lib/python3.11/dist-packages (from rasterio) (25.1.0)\n",
            "Requirement already satisfied: certifi in /usr/local/lib/python3.11/dist-packages (from rasterio) (2025.1.31)\n",
            "Requirement already satisfied: click>=4.0 in /usr/local/lib/python3.11/dist-packages (from rasterio) (8.1.8)\n",
            "Requirement already satisfied: cligj>=0.5 in /usr/local/lib/python3.11/dist-packages (from rasterio) (0.7.2)\n",
            "Requirement already satisfied: numpy>=1.24 in /usr/local/lib/python3.11/dist-packages (from rasterio) (1.26.4)\n",
            "Requirement already satisfied: click-plugins in /usr/local/lib/python3.11/dist-packages (from rasterio) (1.1.1)\n",
            "Requirement already satisfied: pyparsing in /usr/local/lib/python3.11/dist-packages (from rasterio) (3.2.1)\n"
          ]
        }
      ]
    },
    {
      "cell_type": "code",
      "execution_count": 15,
      "id": "cc06a763-62da-4f5d-b273-8b8be31bef67",
      "metadata": {
        "id": "cc06a763-62da-4f5d-b273-8b8be31bef67"
      },
      "outputs": [],
      "source": [
        "# Load Reference CDL Images\n",
        "reference_tif_2019 = \"/content/2019_30m_cdls_cropped.tif\"\n",
        "reference_tif_2020 = \"/content/2020_30m_cdls_cropped.tif\"\n",
        "reference_tif_2021 = \"/content/2021_30m_cdls_cropped.tif\"\n",
        "reference_tif_2022 = \"/content/2022_30m_cdls_cropped.tif\"\n",
        "reference_tif_2023 = \"/content/2023_30m_cdls_cropped.tif\""
      ]
    },
    {
      "cell_type": "code",
      "execution_count": 16,
      "id": "9419d3c5-824e-4c04-ae88-6be05e6a7cfc",
      "metadata": {
        "id": "9419d3c5-824e-4c04-ae88-6be05e6a7cfc"
      },
      "outputs": [],
      "source": [
        "satellite_tif = \"/content/2019_30m_cdls_cropped.tif\" #using dummy CDL tif for now, but will need to add satelite images here later"
      ]
    },
    {
      "cell_type": "code",
      "source": [],
      "metadata": {
        "id": "piyKhp3dIrSr"
      },
      "id": "piyKhp3dIrSr",
      "execution_count": null,
      "outputs": []
    },
    {
      "cell_type": "code",
      "execution_count": 17,
      "id": "8592f569-1413-461f-8158-b667e9cf5741",
      "metadata": {
        "colab": {
          "base_uri": "https://localhost:8080/"
        },
        "id": "8592f569-1413-461f-8158-b667e9cf5741",
        "outputId": "4d119b1a-dfef-4e53-c3cb-c9e3877bd631"
      },
      "outputs": [
        {
          "output_type": "stream",
          "name": "stdout",
          "text": [
            "Unique grayscale values in the reference image:\n",
            "[  0   1   4   5   6  12  13  14  21  24  25  27  28  30  36  37  41  42\n",
            "  43  44  49  50  53  54  56  57  58  59  61  66  68  70 111 121 122 123\n",
            " 124 131 141 142 143 152 176 190 195 205 206 219 222 225 229 243 246]\n"
          ]
        }
      ],
      "source": [
        "#print all grayscale values 2019\n",
        "with rasterio.open(reference_tif_2019) as ref_src:\n",
        "    ref_image = ref_src.read(1)  # Read as a single-band (grayscale) array\n",
        "# Get unique grayscale values\n",
        "unique_values = np.unique(ref_image)\n",
        "\n",
        "# Print the values\n",
        "print(\"Unique grayscale values in the reference image:\")\n",
        "print(unique_values)"
      ]
    },
    {
      "cell_type": "code",
      "execution_count": 18,
      "id": "38f9f9c1-893e-4c69-a479-67d2d95f59b4",
      "metadata": {
        "colab": {
          "base_uri": "https://localhost:8080/"
        },
        "id": "38f9f9c1-893e-4c69-a479-67d2d95f59b4",
        "outputId": "dbdaea44-73fb-4bf8-ade3-b5b295cd67b1"
      },
      "outputs": [
        {
          "output_type": "stream",
          "name": "stdout",
          "text": [
            "Unique grayscale values in the reference image:\n",
            "[  0   1   3   4   5   6  12  13  14  21  22  24  26  27  28  29  30  36\n",
            "  37  39  41  42  43  44  47  48  49  50  53  54  56  58  59  60  61  66\n",
            "  68  70  71  76 111 121 122 123 124 131 141 142 143 152 176 190 195 205\n",
            " 206 222 225 229 242 243 246]\n"
          ]
        }
      ],
      "source": [
        "#print all grayscale values 2020\n",
        "with rasterio.open(reference_tif_2020) as ref_src:\n",
        "    ref_image = ref_src.read(1)  # Read as a single-band (grayscale) array\n",
        "# Get unique grayscale values\n",
        "unique_values = np.unique(ref_image)\n",
        "\n",
        "# Print the values\n",
        "print(\"Unique grayscale values in the reference image:\")\n",
        "print(unique_values)"
      ]
    },
    {
      "cell_type": "code",
      "execution_count": 19,
      "id": "e459dcda-5d28-4332-aff6-9a08f52f8bcb",
      "metadata": {
        "colab": {
          "base_uri": "https://localhost:8080/"
        },
        "id": "e459dcda-5d28-4332-aff6-9a08f52f8bcb",
        "outputId": "1d64f316-d0c4-40fc-90a8-fa8741505f47"
      },
      "outputs": [
        {
          "output_type": "stream",
          "name": "stdout",
          "text": [
            "Unique grayscale values in the reference image:\n",
            "[  0   1   4   5   6  12  13  14  21  24  26  27  28  29  30  31  36  37\n",
            "  39  41  42  43  44  47  49  50  53  54  56  57  58  59  61  66  68  69\n",
            "  70  71  76  77  92 111 121 122 123 124 131 141 142 143 152 176 190 195\n",
            " 205 206 207 216 219 221 222 225 228 229 242 243 245 246]\n"
          ]
        }
      ],
      "source": [
        "#print all grayscale values 2021\n",
        "with rasterio.open(reference_tif_2021) as ref_src:\n",
        "    ref_image = ref_src.read(1)  # Read as a single-band (grayscale) array\n",
        "# Get unique grayscale values\n",
        "unique_values = np.unique(ref_image)\n",
        "\n",
        "# Print the values\n",
        "print(\"Unique grayscale values in the reference image:\")\n",
        "print(unique_values)"
      ]
    },
    {
      "cell_type": "code",
      "execution_count": 20,
      "id": "7a8ae71a-7bf2-4e64-b7e1-81d94af170d0",
      "metadata": {
        "colab": {
          "base_uri": "https://localhost:8080/"
        },
        "id": "7a8ae71a-7bf2-4e64-b7e1-81d94af170d0",
        "outputId": "1a76b922-b671-485e-c6a6-1012beeca3a0"
      },
      "outputs": [
        {
          "output_type": "stream",
          "name": "stdout",
          "text": [
            "Unique grayscale values in the reference image:\n",
            "[  0   1   4   5   6  12  14  21  23  24  26  27  28  29  30  36  37  39\n",
            "  41  42  43  44  47  48  49  50  53  54  56  57  58  59  60  61  66  67\n",
            "  68  69  70  71  76  77 111 121 122 123 124 131 141 142 143 152 176 190\n",
            " 195 205 206 207 216 221 222 228 229 242 243 246]\n"
          ]
        }
      ],
      "source": [
        "#print all grayscale values 2022\n",
        "with rasterio.open(reference_tif_2022) as ref_src:\n",
        "    ref_image = ref_src.read(1)  # Read as a single-band (grayscale) array\n",
        "# Get unique grayscale values\n",
        "unique_values = np.unique(ref_image)\n",
        "\n",
        "# Print the values\n",
        "print(\"Unique grayscale values in the reference image:\")\n",
        "print(unique_values)"
      ]
    },
    {
      "cell_type": "code",
      "execution_count": 21,
      "id": "f9d88366-b83a-493d-b09c-35314e4d3cfd",
      "metadata": {
        "colab": {
          "base_uri": "https://localhost:8080/"
        },
        "id": "f9d88366-b83a-493d-b09c-35314e4d3cfd",
        "outputId": "d1fc1179-2d66-4d14-9501-bfa7f367e53b"
      },
      "outputs": [
        {
          "output_type": "stream",
          "name": "stdout",
          "text": [
            "Unique grayscale values in the reference image:\n",
            "[  0   1   4   5   6  12  14  21  24  26  27  28  30  31  36  37  39  41\n",
            "  42  43  44  49  50  53  56  58  59  60  61  66  68  69  70  71  77 111\n",
            " 121 122 123 124 131 141 142 143 152 176 190 195 205 206 216 222 242 243]\n"
          ]
        }
      ],
      "source": [
        "#print all grayscale values 2023\n",
        "with rasterio.open(reference_tif_2023) as ref_src:\n",
        "    ref_image = ref_src.read(1)  # Read as a single-band (grayscale) array\n",
        "# Get unique grayscale values\n",
        "unique_values = np.unique(ref_image)\n",
        "\n",
        "# Print the values\n",
        "print(\"Unique grayscale values in the reference image:\")\n",
        "print(unique_values)"
      ]
    },
    {
      "cell_type": "code",
      "execution_count": 22,
      "id": "20f4045c-8738-4485-9207-261f20ed12ce",
      "metadata": {
        "id": "20f4045c-8738-4485-9207-261f20ed12ce"
      },
      "outputs": [],
      "source": [
        "#NEED TO UPDATE SO THAT ALL GRAYSCALE VALUES ARE INCLUDED\n",
        "# Define crop mapping (grayscale values to crop labels)\n",
        "CROP_MAPPING = {\n",
        "    1: \"Corn\",\n",
        "    4: \"Sorghum\",\n",
        "    5: \"Soybeans\",\n",
        "    6: \"Sunflower\",\n",
        "    12: \"Sweet Corn\",\n",
        "    13: \"Pop or Orn Corn\",\n",
        "    14: \"Mint\",\n",
        "    21: \"Barley\",\n",
        "    23: \"Spring Wheat\",\n",
        "    24: \"Winter Wheat\",\n",
        "    26: \"Dbl Crop WinWht/Soybeans\",\n",
        "    27: \"Rye\",\n",
        "    28: \"Oats\",\n",
        "    29: \"Millet\",\n",
        "    30: \"Speltz\",\n",
        "    31: \"Canola\",\n",
        "    36: \"Alfalfa\",\n",
        "    37: \"Other Hay/Non Alfalfa\",\n",
        "    39: \"Buckwheat\",\n",
        "    41: \"Sugarbeets\",\n",
        "    42: \"Dry Beans\",\n",
        "    43: \"Potatoes\",\n",
        "    44: \"Other Crops\",\n",
        "    47: \"Misc Vegs & Fruits\",\n",
        "    48: \"Watermelons\",\n",
        "    49: \"Onions\",\n",
        "    50: \"Cucumbers\",\n",
        "    53: \"Peas\",\n",
        "    54: \"Tomatoes\",\n",
        "    58: \"Clover/Wildflowers\",\n",
        "    59: \"Sod/Grass Seed\",\n",
        "    60: \"Switchgrass\",\n",
        "    61: \"Fallow/Idle Cropland\",\n",
        "    66: \"Cherries\",\n",
        "    67: \"Peaches\",\n",
        "    68: \"Apples\",\n",
        "    69: \"Grapes\",\n",
        "    70: \"Christmas Trees\",\n",
        "    71: \"Other Tree Crops\",\n",
        "    77: \"Pears\",\n",
        "    92: \"Aquaculture\",\n",
        "    111: \"Open Water\",\n",
        "    121: \"Developed/Open Space\",\n",
        "    122: \"Developed/Low Intensity\",\n",
        "    123: \"Developed/Med Intensity\",\n",
        "    124: \"Developed/High Intensity\",\n",
        "    131: \"Barren\",\n",
        "    141: \"Deciduous Forest\",\n",
        "    142: \"Evergreen Forest\",\n",
        "    143: \"Mixed Forest\",\n",
        "    152: \"Shrubland\",\n",
        "    176: \"Grassland/Pasture\",\n",
        "    190: \"Woody Wetlands\",\n",
        "    195: \"Herbaceous Wetlands\",\n",
        "    205: \"Triticale\",\n",
        "    206: \"Carrots\",\n",
        "    207: \"Asparagus\",\n",
        "    209: \"Cantaloupes\",\n",
        "    216: \"Peppers\",\n",
        "    220: \"Plums\",\n",
        "    222: \"Squash\",\n",
        "    225: \"Dbl Crop WinWht/Corn\",\n",
        "    228: \"Dbl Crop Triticale/Corn\",\n",
        "    229: \"Pumpkins\",\n",
        "    236: \"Dbl Crop WinWht/Sorghum\",\n",
        "    240: \"Dbl Crop Soybeans/Oats\",\n",
        "    242: \"Blueberries\",\n",
        "    243: \"Cabbage\",\n",
        "    245: \"Celery\",\n",
        "    247: \"Turnips\"\n",
        "}\n",
        "\n"
      ]
    },
    {
      "cell_type": "code",
      "execution_count": 23,
      "id": "a4c88a2b-b9a6-4b0e-a532-5648e06bbb44",
      "metadata": {
        "id": "a4c88a2b-b9a6-4b0e-a532-5648e06bbb44"
      },
      "outputs": [],
      "source": [
        "# Define the grid size\n",
        "GRID_SIZE = 1  # Adjust based on resolution needs"
      ]
    },
    {
      "cell_type": "code",
      "execution_count": 24,
      "id": "24d19142-d056-4764-a0f6-b26f9d2f6f69",
      "metadata": {
        "id": "24d19142-d056-4764-a0f6-b26f9d2f6f69"
      },
      "outputs": [],
      "source": [
        "with rasterio.open(satellite_tif) as sat_src, rasterio.open(reference_tif_2019) as ref_src:\n",
        "    width, height = sat_src.width, sat_src.height\n",
        "    grid_data = []  # Store labeled data\n",
        "\n",
        "    # Loop over grid cells\n",
        "    for y in range(0, height, GRID_SIZE):\n",
        "        for x in range(0, width, GRID_SIZE):\n",
        "            # Define window for the grid section\n",
        "            window = Window(x, y, GRID_SIZE, GRID_SIZE)\n",
        "\n",
        "            # Read the corresponding section from the reference image\n",
        "            ref_patch = ref_src.read(1, window=window)\n",
        "\n",
        "            # Find the most common grayscale value in the patch\n",
        "            unique, counts = np.unique(ref_patch, return_counts=True)\n",
        "            dominant_grayscale = unique[np.argmax(counts)]\n",
        "\n",
        "            # Map grayscale value to crop type\n",
        "            crop_type = CROP_MAPPING.get(dominant_grayscale, \"Unknown\")\n",
        "\n",
        "            # Store grid location and crop type\n",
        "            grid_data.append({\n",
        "                \"x\": x,\n",
        "                \"y\": y,\n",
        "                \"crop_type\": crop_type\n",
        "            })"
      ]
    },
    {
      "cell_type": "code",
      "execution_count": 25,
      "id": "50a7a550-dee3-4a27-9b93-0a609deba9af",
      "metadata": {
        "id": "50a7a550-dee3-4a27-9b93-0a609deba9af"
      },
      "outputs": [],
      "source": [
        "# Convert to DataFrame and Save\n",
        "df = pd.DataFrame(grid_data)\n",
        "df.to_csv(\"labeled_grid.csv\", index=False)"
      ]
    },
    {
      "cell_type": "code",
      "execution_count": null,
      "id": "dbef5956-ae51-4cf5-a02b-c20258d66615",
      "metadata": {
        "id": "dbef5956-ae51-4cf5-a02b-c20258d66615"
      },
      "outputs": [],
      "source": []
    },
    {
      "cell_type": "code",
      "source": [],
      "metadata": {
        "id": "KG0o3c1eszev"
      },
      "id": "KG0o3c1eszev",
      "execution_count": null,
      "outputs": []
    }
  ],
  "metadata": {
    "kernelspec": {
      "display_name": "classes",
      "language": "python",
      "name": "python3"
    },
    "language_info": {
      "codemirror_mode": {
        "name": "ipython",
        "version": 3
      },
      "file_extension": ".py",
      "mimetype": "text/x-python",
      "name": "python",
      "nbconvert_exporter": "python",
      "pygments_lexer": "ipython3",
      "version": "3.11.0"
    },
    "colab": {
      "provenance": [],
      "include_colab_link": true
    }
  },
  "nbformat": 4,
  "nbformat_minor": 5
}